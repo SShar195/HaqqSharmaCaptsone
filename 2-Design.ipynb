{
 "cells": [
  {
   "cell_type": "markdown",
   "id": "612734a5-e9ea-4225-bbe8-39faa84e34d4",
   "metadata": {},
   "source": [
    "# Random Algorithm (2-Design, 2 Qubits)"
   ]
  },
  {
   "cell_type": "markdown",
   "id": "34fa6621-a34d-4008-9c5c-8df8670fa2f2",
   "metadata": {},
   "source": [
    "## Libraries"
   ]
  },
  {
   "cell_type": "code",
   "execution_count": 1,
   "id": "3f086b75-cb08-4826-bdef-e717f9ef0e80",
   "metadata": {},
   "outputs": [],
   "source": [
    "from qiskit import transpile\n",
    "from qiskit.quantum_info import random_density_matrix, Operator, Statevector, DensityMatrix, random_unitary, random_statevector, random_clifford, Pauli, SparsePauliOp\n",
    "from qiskit.circuit import Parameter, ParameterVector, QuantumCircuit\n",
    "from qiskit_algorithms.gradients import ParamShiftEstimatorGradient, FiniteDiffEstimatorGradient\n",
    "from qiskit_ibm_runtime import QiskitRuntimeService, Session, Options\n",
    "from qiskit.circuit.library import PauliEvolutionGate\n",
    "from qiskit.synthesis import LieTrotter\n",
    "\n",
    "import numpy as np\n",
    "import pandas as pd\n",
    "import scipy as sp\n",
    "from math import pi\n",
    "import matplotlib as mpl\n",
    "import matplotlib.pyplot as plt\n",
    "import random\n",
    "from itertools import product"
   ]
  },
  {
   "cell_type": "markdown",
   "id": "56c8070e-00af-45de-baaf-50287edb5f3d",
   "metadata": {},
   "source": [
    "## Functions"
   ]
  },
  {
   "cell_type": "code",
   "execution_count": 2,
   "id": "1f206233-1d7e-4ebb-88c1-8e12b8ad61e4",
   "metadata": {},
   "outputs": [],
   "source": [
    "#Credit: Prakiti Biswas\n",
    "def create_random_xz_diagonal_unitaries(num_qubits, total_repetitions, seed):\n",
    "    phi = [0, (2 / 3) * np.pi, (4 / 3) * np.pi]\n",
    "    theta = [0, np.pi]\n",
    "    \n",
    "    random_unitary_circuit = QuantumCircuit(num_qubits)\n",
    "\n",
    "    random.seed(seed)\n",
    "    for l in range(total_repetitions):\n",
    "        for first_step in range(num_qubits):\n",
    "            random_unitary_circuit.rz(random.choice(phi), first_step)\n",
    "            \n",
    "        for second_step_i in range(num_qubits):\n",
    "            for second_step_ii in range(second_step_i + 1, num_qubits):\n",
    "                random_unitary_circuit.crz(random.choice(theta),second_step_i,second_step_ii)\n",
    "                \n",
    "        for third_step in range(num_qubits):\n",
    "            random_unitary_circuit.h(third_step)\n",
    "        \n",
    "    return random_unitary_circuit"
   ]
  },
  {
   "cell_type": "code",
   "execution_count": 3,
   "id": "85dcf0ef-d527-46d5-8692-49bf715afc12",
   "metadata": {},
   "outputs": [],
   "source": [
    "def random_algorithm(initial_state, problem_hamiltonian, num_iterations, step_size, options, num_qubits):\n",
    "    #Initialize with state and identity matrix\n",
    "    adaptive_unitary = QuantumCircuit(num_qubits)\n",
    "    \n",
    "    adaptive_unitary.initialize(initial_state, range(num_qubits))\n",
    "    adaptive_unitary.i(range(num_qubits))\n",
    "    \n",
    "    #Estimator and Gradient Estimator\n",
    "    estimator = Estimator(options=options)\n",
    "    gradient_estimator = ParamShiftEstimatorGradient(estimator)\n",
    "    \n",
    "    cost_list = []\n",
    "    variance_list = []\n",
    "    gradient_list = []\n",
    "    for iteration in range(num_iterations):\n",
    "        #Calculate cost\n",
    "        cost = None\n",
    "        variance = None\n",
    "        try:\n",
    "            cost_job = estimator.run(adaptive_unitary, problem_hamiltonian).result()\n",
    "            cost = cost_job.values[0] #Jk\n",
    "            variance = cost_job.metadata[0].get(\"variance\")\n",
    "        except:\n",
    "            break\n",
    "        \n",
    "        #Update adaptive unitary\n",
    "        theta = Parameter(\"theta\") #Paramater for adapative unitary\n",
    "        \n",
    "        random_unitary_matrix = create_random_xz_diagonal_unitaries(num_qubits=num_qubits, total_repetitions=3, seed=iteration) #Vk\n",
    "        adaptive_unitary.append(random_unitary_matrix.inverse(), range(num_qubits))\n",
    "        adaptive_unitary.rx(theta, 0)\n",
    "        adaptive_unitary.append(random_unitary_matrix, range(num_qubits))\n",
    "        \n",
    "        #Calculate gradient and objective input (Theta k)\n",
    "        gradient = None\n",
    "        try:\n",
    "            gradient_job = gradient_estimator.run(adaptive_unitary, problem_hamiltonian, [[0]]).result()\n",
    "            gradient = gradient_job.gradients[0][0]\n",
    "        except:\n",
    "            break\n",
    "        current_objective_input = -step_size * gradient\n",
    "            \n",
    "        #Assign new parameter\n",
    "        adaptive_unitary.assign_parameters([current_objective_input], inplace=True)\n",
    "        \n",
    "        #Update cost and jobs list\n",
    "        cost_list.append(cost)\n",
    "        variance_list.append(variance)\n",
    "        gradient_list.append(gradient)\n",
    "\n",
    "        #DEBUG\n",
    "        print(f\"{iteration=:5}, {cost=:20}, {gradient=}\")\n",
    "\n",
    "        #DEBUG\n",
    "        # display(adaptive_unitary.draw(output=\"mpl\"))\n",
    "        # if(iteration >= 3):\n",
    "        #     break\n",
    "    \n",
    "    return adaptive_unitary, cost_list, variance_list, gradient_list"
   ]
  },
  {
   "cell_type": "markdown",
   "id": "8c7452ac-ce1a-487f-872b-85ddd52523d6",
   "metadata": {},
   "source": [
    "## Testbench"
   ]
  },
  {
   "cell_type": "code",
   "execution_count": 4,
   "id": "afcf7ae6-0c36-4e7c-adbf-76c70b62f22d",
   "metadata": {},
   "outputs": [],
   "source": [
    "NUM_QUBITS = 2 #Number of qubits\n",
    "NUM_ITERATIONS = 150 #Number of iterations in the optimization loop\n",
    "STEP_SIZE = 0.25 #Gamma\n",
    "\n",
    "INITIAL_STATE = random_statevector(2 ** NUM_QUBITS, seed=7) #psi 0\n",
    "PROBLEM_HAMILTONIAN = Operator.from_label(\"ZZ\") #Hp\n",
    "\n",
    "service = QiskitRuntimeService(channel=\"ibm_quantum\", instance=\"ibm-q-asu/main/asu-arenz\")\n",
    "backend = service.get_backend(\"ibmq_mumbai\")"
   ]
  }
 ],
 "metadata": {
  "kernelspec": {
   "display_name": "Python 3",
   "language": "python",
   "name": "python3"
  },
  "language_info": {
   "codemirror_mode": {
    "name": "ipython",
    "version": 3
   },
   "file_extension": ".py",
   "mimetype": "text/x-python",
   "name": "python",
   "nbconvert_exporter": "python",
   "pygments_lexer": "ipython3",
   "version": "3.8.10"
  }
 },
 "nbformat": 4,
 "nbformat_minor": 5
}
