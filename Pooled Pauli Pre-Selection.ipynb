{
 "cells": [
  {
   "cell_type": "markdown",
   "id": "612734a5-e9ea-4225-bbe8-39faa84e34d4",
   "metadata": {},
   "source": [
    "# Random Algorithm (Pooled Pauli Pre-Selection, 2 Qubits)"
   ]
  },
  {
   "cell_type": "markdown",
   "id": "34fa6621-a34d-4008-9c5c-8df8670fa2f2",
   "metadata": {},
   "source": [
    "## Libraries"
   ]
  },
  {
   "cell_type": "code",
   "execution_count": 1,
   "id": "3f086b75-cb08-4826-bdef-e717f9ef0e80",
   "metadata": {},
   "outputs": [],
   "source": [
    "from qiskit import transpile\n",
    "from qiskit.quantum_info import random_density_matrix, Operator, Statevector, DensityMatrix, random_unitary, random_statevector, random_clifford, Pauli, SparsePauliOp\n",
    "from qiskit.circuit import Parameter, ParameterVector, QuantumCircuit\n",
    "from qiskit_algorithms.gradients import ParamShiftEstimatorGradient, FiniteDiffEstimatorGradient\n",
    "from qiskit_ibm_runtime import QiskitRuntimeService, Session, Options\n",
    "from qiskit.circuit.library import PauliEvolutionGate\n",
    "from qiskit.synthesis import LieTrotter\n",
    "\n",
    "import numpy as np\n",
    "import pandas as pd\n",
    "import scipy as sp\n",
    "from math import pi\n",
    "import matplotlib as mpl\n",
    "import matplotlib.pyplot as plt\n",
    "import random\n",
    "from itertools import product"
   ]
  },
  {
   "cell_type": "markdown",
   "id": "56c8070e-00af-45de-baaf-50287edb5f3d",
   "metadata": {},
   "source": [
    "## Functions"
   ]
  },
  {
   "cell_type": "code",
   "execution_count": 2,
   "id": "bc8428ce-3122-4098-b6d0-8279cc5b7dfc",
   "metadata": {},
   "outputs": [],
   "source": [
    "def create_random_pauli_strings(num_qubits, num_strings, seed):\n",
    "    pauli_dict = {\n",
    "        \"0\": \"I\",\n",
    "        \"1\": \"X\",\n",
    "        \"2\": \"Y\",\n",
    "        \"3\": \"Z\"\n",
    "    }\n",
    "\n",
    "    #Randomly sample from 1 to 4 ** num_qubits without replacement (and convert it to base4)\n",
    "    random.seed(seed)\n",
    "    random_pauli_strings = random.sample(range(1, 4 ** num_qubits), k=num_strings)\n",
    "    random_pauli_strings = [np.base_repr(num, base=4).zfill(num_qubits) for num in random_pauli_strings]\n",
    "\n",
    "    #Replace integer for associated pauli\n",
    "    for num in pauli_dict:\n",
    "        for i, pauli_string in enumerate(random_pauli_strings):\n",
    "            random_pauli_strings[i] = pauli_string.replace(num, pauli_dict[num])\n",
    "    \n",
    "    return random_pauli_strings"
   ]
  },
  {
   "cell_type": "code",
   "execution_count": 3,
   "id": "85dcf0ef-d527-46d5-8692-49bf715afc12",
   "metadata": {},
   "outputs": [],
   "source": [
    "def random_algorithm(initial_state, problem_hamiltonian, num_iterations, step_size, num_tests, options, num_qubits):\n",
    "    #Initialize with state and identity matrix\n",
    "    adaptive_unitary = QuantumCircuit(num_qubits)\n",
    "    \n",
    "    adaptive_unitary.initialize(initial_state, range(num_qubits))\n",
    "    adaptive_unitary.i(range(num_qubits))\n",
    "    \n",
    "    #Estimator and Gradient Estimator\n",
    "    estimator = Estimator(options=options)\n",
    "    gradient_estimator = ParamShiftEstimatorGradient(estimator)\n",
    "    \n",
    "    cost_list = []\n",
    "    variance_list = []\n",
    "    gradients_list = []\n",
    "    for iteration in range(num_iterations):\n",
    "        #Calculate cost\n",
    "        cost = None\n",
    "        variance = None\n",
    "        try:\n",
    "            cost_job = estimator.run(adaptive_unitary, problem_hamiltonian).result()\n",
    "            cost = cost_job.values[0] #Jk\n",
    "            variance = cost_job.metadata[0].get(\"variance\")\n",
    "        except:\n",
    "            break\n",
    "        \n",
    "        #Update adaptive unitary\n",
    "        random_pauli_strings = create_random_pauli_strings(num_qubits, num_strings=num_tests, seed=iteration)\n",
    "        \n",
    "        test_circuits = [] \n",
    "        for random_pauli_string in random_pauli_strings:\n",
    "            theta = Parameter(f\"theta_{random_pauli_string}\") #Parameter for adapative unitary\n",
    "\n",
    "            test_circuit = adaptive_unitary.copy()\n",
    "            test_circuit.append(PauliEvolutionGate(Pauli(random_pauli_string),\n",
    "                                                         time=theta/2,\n",
    "                                                         synthesis=LieTrotter(reps=1)),\n",
    "                                                         range(num_qubits))\n",
    "\n",
    "            test_circuits.append(test_circuit)\n",
    "        \n",
    "        #Calculate gradient and objective input (Theta k)\n",
    "        gradients = None\n",
    "        try:\n",
    "            gradient_job = gradient_estimator.run(test_circuits, [problem_hamiltonian] * num_tests, [[0]] * num_tests).result()\n",
    "            gradients = gradient_job.gradients\n",
    "        except:\n",
    "            break\n",
    "        \n",
    "        gradients = np.array(gradients).flatten()\n",
    "        absolute_gradients = np.abs(gradients)\n",
    "        max_gradient_index = absolute_gradients.argmax()\n",
    "        \n",
    "        current_objective_input = -step_size * gradients[max_gradient_index]  \n",
    "            \n",
    "        #Assign new parameter\n",
    "        adaptive_unitary = test_circuits[max_gradient_index]\n",
    "        adaptive_unitary.assign_parameters([current_objective_input], inplace=True)\n",
    "        \n",
    "        #Update cost and jobs list\n",
    "        cost_list.append(cost)\n",
    "        variance_list.append(variance)\n",
    "        gradients_list.append(gradients)\n",
    "\n",
    "        #DEBUG\n",
    "        grad = gradients[max_gradient_index]\n",
    "        print(f\"{iteration=:5}, {cost=:20}, {gradients=}, {max_gradient_index=}, {grad=:20}\")\n",
    "\n",
    "        #DEBUG\n",
    "        # display(adaptive_unitary.draw(output=\"mpl\"))\n",
    "        # if(iteration >= 3):\n",
    "        #     break\n",
    "    \n",
    "    return adaptive_unitary, cost_list, variance_list, gradients_list"
   ]
  },
  {
   "cell_type": "markdown",
   "id": "8c7452ac-ce1a-487f-872b-85ddd52523d6",
   "metadata": {},
   "source": [
    "## Testbench"
   ]
  },
  {
   "cell_type": "code",
   "execution_count": 4,
   "id": "afcf7ae6-0c36-4e7c-adbf-76c70b62f22d",
   "metadata": {},
   "outputs": [],
   "source": [
    "NUM_QUBITS = 2 #Number of qubits\n",
    "NUM_ITERATIONS = 150 #Number of iterations in the optimization loop\n",
    "STEP_SIZE = 0.25 #Gamma\n",
    "NUM_TESTS = 5 #Number of tests\n",
    "\n",
    "INITIAL_STATE = random_statevector(2 ** NUM_QUBITS, seed=7) #psi 0\n",
    "PROBLEM_HAMILTONIAN = Operator.from_label(\"ZZ\") #Hp\n",
    "\n",
    "service = QiskitRuntimeService(channel=\"ibm_quantum\", instance=\"ibm-q-asu/main/asu-arenz\")\n",
    "backend = service.get_backend(\"ibmq_mumbai\")"
   ]
  }
 ],
 "metadata": {
  "kernelspec": {
   "display_name": "Python 3 (ipykernel)",
   "language": "python",
   "name": "python3"
  },
  "language_info": {
   "codemirror_mode": {
    "name": "ipython",
    "version": 3
   },
   "file_extension": ".py",
   "mimetype": "text/x-python",
   "name": "python",
   "nbconvert_exporter": "python",
   "pygments_lexer": "ipython3",
   "version": "3.10.12"
  }
 },
 "nbformat": 4,
 "nbformat_minor": 5
}
